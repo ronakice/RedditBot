{
 "cells": [
  {
   "cell_type": "code",
   "execution_count": 20,
   "metadata": {
    "collapsed": false
   },
   "outputs": [],
   "source": [
    "import os\n",
    "import gensim as gs\n",
    "import numpy\n",
    "from nltk.corpus import stopwords"
   ]
  },
  {
   "cell_type": "code",
   "execution_count": 4,
   "metadata": {
    "collapsed": false
   },
   "outputs": [],
   "source": [
    "def trainWordEmbeddGensim():\n",
    "    if \"model.bin\" in os.curdir(\".\"):\n",
    "        return\n",
    "    else:\n",
    "        model = Word2Vec(sentences, size=100, windows=5, min_count=25,workers=8)\n",
    "        model.save(\"model.bin\")\n",
    "        return model\n",
    "wordEmbeddings=gs.models.KeyedVectors.load_word2vec_format(\"model.bin\",binary=True)"
   ]
  },
  {
   "cell_type": "code",
   "execution_count": 58,
   "metadata": {
    "collapsed": false
   },
   "outputs": [
    {
     "name": "stdout",
     "output_type": "stream",
     "text": [
      "I want to kill myself. Help me.\n",
      "I want to kill myself  Help me \n",
      "I\n",
      "want\n",
      "kill\n",
      "Help\n",
      "[  1.19033813e-01   1.08848572e-01   7.98339844e-02   1.29516602e-01\n",
      "  -8.88671875e-02   1.21704102e-01   7.98187256e-02  -3.18298340e-02\n",
      "  -2.86865234e-03   9.42382812e-02   5.69343567e-03  -9.25292969e-02\n",
      "  -5.75103760e-02   3.14331055e-02  -1.11633301e-01  -2.33154297e-02\n",
      "  -7.90786743e-03   1.23840332e-01   5.24291992e-02  -9.37500000e-02\n",
      "   9.00268555e-02   1.45629883e-01   2.20825195e-01  -2.09045410e-02\n",
      "  -4.75463867e-02   4.54940796e-02  -6.09542131e-02  -4.87365723e-02\n",
      "   2.75878906e-02  -5.11779785e-02   5.00488281e-02   1.27471924e-01\n",
      "  -1.25183105e-01  -2.54028320e-01  -3.20434570e-03   4.01611328e-02\n",
      "   6.79779053e-02   4.01611328e-02   1.47705078e-02   1.70410156e-01\n",
      "   1.02722168e-01  -1.81884766e-02   1.18652344e-01  -7.44018555e-02\n",
      "  -3.44238281e-02  -6.39648438e-02  -6.94274902e-02  -2.59399414e-02\n",
      "  -1.81884766e-02   7.29980469e-02  -2.24609375e-01   7.05413818e-02\n",
      "   9.67712402e-02   2.49938965e-02  -9.46044922e-03  -4.83398438e-02\n",
      "  -1.14929199e-01  -2.63671875e-02  -2.93273926e-02  -8.70361328e-02\n",
      "   5.77392578e-02   4.19921875e-02  -1.43798828e-01   7.16094971e-02\n",
      "  -2.78015137e-02  -3.88793945e-02  -3.17382812e-02   1.42002106e-01\n",
      "  -6.10046387e-02   1.38610840e-01   8.25195312e-02   4.77447510e-02\n",
      "   5.55419922e-03   1.46484375e-02  -3.01391602e-01  -2.15576172e-01\n",
      "   8.93554688e-02   9.91744995e-02   9.97314453e-02   1.87255859e-01\n",
      "  -5.61828613e-02  -2.16674805e-02   9.49554443e-02   3.52783203e-02\n",
      "  -4.13970947e-02   4.67529297e-02  -1.30798340e-01   1.79443359e-01\n",
      "   7.93190002e-02  -1.84783936e-02   8.09326172e-02   1.31500244e-01\n",
      "  -5.33447266e-02  -2.01721191e-01   6.62841797e-02  -3.22570801e-02\n",
      "   2.25830078e-01   4.75463867e-02   2.28271484e-02   9.33837891e-02\n",
      "  -1.67541504e-01  -3.05175781e-02   1.26953125e-02   5.92346191e-02\n",
      "  -3.64379883e-02   1.03759766e-02  -1.18347168e-01  -1.25976562e-01\n",
      "   2.49023438e-02   2.38647461e-02  -2.60589600e-01  -1.59179688e-01\n",
      "  -5.75256348e-02  -1.09558105e-02   3.17382812e-02   2.09350586e-02\n",
      "  -9.14001465e-03  -9.22851562e-02  -3.76586914e-02   1.22070312e-04\n",
      "   1.98669434e-02   7.62939453e-02  -1.15554810e-01   3.75976562e-02\n",
      "  -4.89501953e-02  -1.05102539e-01  -1.43157959e-01  -1.28906250e-01\n",
      "   1.00891113e-01   5.35888672e-02  -4.50744629e-02  -1.22558594e-01\n",
      "  -4.00390625e-02   4.62036133e-02  -3.47900391e-03  -9.25292969e-02\n",
      "   3.36360931e-02   1.17187500e-02   1.02416992e-01   1.07975006e-01\n",
      "  -1.47705078e-02  -2.03857422e-02   1.22070312e-02  -9.83886719e-02\n",
      "   2.01416016e-02   3.47290039e-02  -8.63647461e-02  -1.56616211e-01\n",
      "   9.93041992e-02  -1.57913208e-01   8.86230469e-02   4.60052490e-02\n",
      "  -1.42211914e-01  -9.74273682e-03   7.66906738e-02   3.40576172e-02\n",
      "  -8.76159668e-02   1.16577148e-02  -1.20666504e-01  -6.67114258e-02\n",
      "   3.62548828e-02   7.01293945e-02   2.70996094e-02   2.22167969e-02\n",
      "   3.74450684e-02  -1.37451172e-01   1.10260010e-01  -1.31591797e-01\n",
      "   1.20666504e-01   3.66210938e-04  -1.19964600e-01   6.01119995e-02\n",
      "  -3.17993164e-02  -1.78520203e-01  -8.95385742e-02   1.01928711e-02\n",
      "   1.48193359e-01   1.67236328e-02  -1.50878906e-01   2.05688477e-02\n",
      "  -2.41210938e-01  -8.61816406e-02   8.20312500e-02  -2.22778320e-03\n",
      "  -3.33251953e-02  -6.81915283e-02  -1.59851074e-01  -1.24206543e-02\n",
      "   1.25183105e-01  -7.18250275e-02  -3.47900391e-02   1.34521484e-01\n",
      "   1.30279541e-01   6.12182617e-02   1.28784180e-01   3.28369141e-02\n",
      "   1.17187500e-01  -9.65270996e-02  -1.40441895e-01  -1.78390503e-01\n",
      "  -2.64892578e-02   1.05529785e-01  -9.21630859e-02   9.76562500e-03\n",
      "  -3.01818848e-02   2.03857422e-02  -1.41448975e-01   6.71920776e-02\n",
      "   5.74340820e-02  -1.16088867e-01  -8.91723633e-02   9.00268555e-02\n",
      "  -5.95092773e-03   6.82678223e-02  -1.34368896e-01  -2.36968994e-02\n",
      "   1.73706055e-01   1.29394531e-02  -1.10351562e-01  -1.85913086e-01\n",
      "  -1.60278320e-01   4.55932617e-02  -7.36694336e-02  -4.33349609e-02\n",
      "   1.81884766e-02  -1.37901306e-01   1.33239746e-01   5.95397949e-02\n",
      "  -8.53271484e-02  -1.23291016e-02   1.90277100e-02  -6.85424805e-02\n",
      "   2.00500488e-02  -3.46374512e-02   1.68334961e-01  -3.57666016e-02\n",
      "  -4.00390625e-02  -2.71606445e-02   1.62841797e-01  -4.46166992e-02\n",
      "  -9.23843384e-02   1.25366211e-01   2.63061523e-02  -1.07849121e-01\n",
      "  -3.09448242e-02   7.75146484e-03   1.80816650e-02   9.66796875e-02\n",
      "  -3.17993164e-02   3.34568024e-02   6.50024414e-02   4.48455811e-02\n",
      "   1.55456543e-01   1.15478516e-01   7.92236328e-02  -5.05752563e-02\n",
      "  -1.00532532e-01  -1.32293701e-01  -6.74743652e-02  -1.94335938e-01\n",
      "  -9.82513428e-02  -1.33056641e-02  -8.95996094e-02   4.60815430e-02\n",
      "  -4.58679199e-02   1.58813477e-01  -5.51548004e-02   8.68530273e-02\n",
      "  -4.77294922e-02   2.42919922e-02   1.10778809e-01   1.64062500e-01\n",
      "   1.72607422e-01   9.99755859e-02   5.52978516e-02  -1.07543945e-01\n",
      "  -4.78515625e-02  -1.26098633e-01  -2.78320312e-02  -7.07397461e-02\n",
      "  -1.55029297e-02  -1.39827728e-02   2.19726562e-03   2.62817383e-01\n",
      "  -8.05664062e-02   8.84399414e-02  -1.19529724e-01  -1.49856567e-01\n",
      "   5.05371094e-02  -2.66723633e-02  -3.18603516e-02   7.80334473e-02\n",
      "  -1.89147949e-01   5.24902344e-03  -9.83886719e-02  -1.58691406e-02\n",
      "  -5.73730469e-02  -4.83245850e-02   3.62701416e-02  -4.21829224e-02]\n"
     ]
    }
   ],
   "source": [
    "def loadModel(text):\n",
    "    ct=0\n",
    "    #print(text)\n",
    "    for i in range(len(text)):\n",
    "        if text[i] in \",.!_-\":\n",
    "            new=text[:i] + \" \" + text[i+1:]\n",
    "            text=new\n",
    "    print(text)\n",
    "    listWords=[]\n",
    "    docEmb=numpy.zeros(shape=300, dtype=\"float\")\n",
    "    for word in text.split(' '):\n",
    "        if word in wordEmbeddings.vocab and word not in stopwords.words('english'):\n",
    "            print word\n",
    "            listWords.append(word)\n",
    "            docEmb+=wordEmbeddings[word]\n",
    "    docEmb/=len(listWords)\n",
    "    return docEmb\n",
    "print(\"I want to kill myself. Help me.\")\n",
    "print(loadModel(\"I want to kill myself. Help me.\"))"
   ]
  },
  {
   "cell_type": "code",
   "execution_count": 40,
   "metadata": {
    "collapsed": true
   },
   "outputs": [],
   "source": [
    "def cosineSimilarity(text1,text2):\n",
    "    docEmb1=loadModel(text1)\n",
    "    docEmb2=loadModel(text2)\n",
    "    docEmb1/=numpy.linalg.norm(docEmb1)\n",
    "    docEmb2/=numpy.linalg.norm(docEmb2)\n",
    "    return numpy.dot(docEmb1,docEmb2)"
   ]
  },
  {
   "cell_type": "code",
   "execution_count": 42,
   "metadata": {
    "collapsed": false
   },
   "outputs": [
    {
     "name": "stdout",
     "output_type": "stream",
     "text": [
      "dog\n",
      "dog\n",
      "cat\n",
      "cat\n"
     ]
    },
    {
     "data": {
      "text/plain": [
       "0.76094570897822089"
      ]
     },
     "execution_count": 42,
     "metadata": {},
     "output_type": "execute_result"
    }
   ],
   "source": [
    "cosineSimilarity(\"dog\",\"cat\")"
   ]
  },
  {
   "cell_type": "code",
   "execution_count": 43,
   "metadata": {
    "collapsed": false
   },
   "outputs": [
    {
     "name": "stdout",
     "output_type": "stream",
     "text": [
      "cat\n",
      "cat\n",
      "cats\n",
      "cats\n"
     ]
    },
    {
     "data": {
      "text/plain": [
       "0.80993788246863052"
      ]
     },
     "execution_count": 43,
     "metadata": {},
     "output_type": "execute_result"
    }
   ],
   "source": [
    "cosineSimilarity(\"cat\",\"cats\")"
   ]
  },
  {
   "cell_type": "code",
   "execution_count": 59,
   "metadata": {
    "collapsed": false
   },
   "outputs": [
    {
     "name": "stdout",
     "output_type": "stream",
     "text": [
      "I want to kill myself  Help me \n",
      "I\n",
      "want\n",
      "kill\n",
      "Help\n",
      "Suicidal  want to end life \n",
      "Suicidal\n",
      "want\n",
      "end\n",
      "life\n"
     ]
    },
    {
     "data": {
      "text/plain": [
       "0.60266334083038697"
      ]
     },
     "execution_count": 59,
     "metadata": {},
     "output_type": "execute_result"
    }
   ],
   "source": [
    "cosineSimilarity(\"I want to kill myself. Help me.\", \"Suicidal, want to end life.\")"
   ]
  },
  {
   "cell_type": "code",
   "execution_count": 60,
   "metadata": {
    "collapsed": false
   },
   "outputs": [
    {
     "name": "stdout",
     "output_type": "stream",
     "text": [
      "I want to kill myself  Help me \n",
      "I\n",
      "want\n",
      "kill\n",
      "Help\n",
      "Puppies are cute\n",
      "Puppies\n",
      "cute\n"
     ]
    },
    {
     "data": {
      "text/plain": [
       "0.2936222483337344"
      ]
     },
     "execution_count": 60,
     "metadata": {},
     "output_type": "execute_result"
    }
   ],
   "source": [
    "cosineSimilarity(\"I want to kill myself. Help me.\", \"Puppies are cute\")"
   ]
  }
 ],
 "metadata": {
  "kernelspec": {
   "display_name": "Python 2",
   "language": "python",
   "name": "python2"
  },
  "language_info": {
   "codemirror_mode": {
    "name": "ipython",
    "version": 2
   },
   "file_extension": ".py",
   "mimetype": "text/x-python",
   "name": "python",
   "nbconvert_exporter": "python",
   "pygments_lexer": "ipython2",
   "version": "2.7.13"
  }
 },
 "nbformat": 4,
 "nbformat_minor": 2
}
